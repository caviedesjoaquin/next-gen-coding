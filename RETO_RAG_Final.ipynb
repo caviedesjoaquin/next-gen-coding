{
  "cells": [
    {
      "cell_type": "markdown",
      "id": "0ea4eedc",
      "metadata": {
        "id": "0ea4eedc"
      },
      "source": [
        "## 0. Preparación del ambiente de python"
      ]
    },
    {
      "cell_type": "code",
      "execution_count": 1,
      "id": "0c07e509",
      "metadata": {
        "colab": {
          "base_uri": "https://localhost:8080/"
        },
        "collapsed": true,
        "id": "0c07e509",
        "outputId": "8e0c3317-21e2-47cb-9653-794a477c4054"
      },
      "outputs": [
        {
          "output_type": "stream",
          "name": "stdout",
          "text": [
            "\u001b[?25l     \u001b[90m━━━━━━━━━━━━━━━━━━━━━━━━━━━━━━━━━━━━━━━━\u001b[0m \u001b[32m0.0/67.3 kB\u001b[0m \u001b[31m?\u001b[0m eta \u001b[36m-:--:--\u001b[0m\r\u001b[2K     \u001b[91m━━━━━━━━━━━━━━━━━━━━━━━━━━━━━━━━━━━\u001b[0m\u001b[91m╸\u001b[0m\u001b[90m━━━\u001b[0m \u001b[32m61.4/67.3 kB\u001b[0m \u001b[31m130.8 MB/s\u001b[0m eta \u001b[36m0:00:01\u001b[0m\r\u001b[2K     \u001b[90m━━━━━━━━━━━━━━━━━━━━━━━━━━━━━━━━━━━━━━━━\u001b[0m \u001b[32m67.3/67.3 kB\u001b[0m \u001b[31m1.6 MB/s\u001b[0m eta \u001b[36m0:00:00\u001b[0m\n",
            "\u001b[?25h  Installing build dependencies ... \u001b[?25l\u001b[?25hdone\n",
            "  Getting requirements to build wheel ... \u001b[?25l\u001b[?25hdone\n",
            "  Preparing metadata (pyproject.toml) ... \u001b[?25l\u001b[?25hdone\n",
            "\u001b[2K   \u001b[90m━━━━━━━━━━━━━━━━━━━━━━━━━━━━━━━━━━━━━━━━\u001b[0m \u001b[32m75.0/75.0 kB\u001b[0m \u001b[31m5.1 MB/s\u001b[0m eta \u001b[36m0:00:00\u001b[0m\n",
            "\u001b[2K   \u001b[90m━━━━━━━━━━━━━━━━━━━━━━━━━━━━━━━━━━━━━━━━\u001b[0m \u001b[32m2.5/2.5 MB\u001b[0m \u001b[31m53.7 MB/s\u001b[0m eta \u001b[36m0:00:00\u001b[0m\n",
            "\u001b[2K   \u001b[90m━━━━━━━━━━━━━━━━━━━━━━━━━━━━━━━━━━━━━━━━\u001b[0m \u001b[32m19.8/19.8 MB\u001b[0m \u001b[31m71.4 MB/s\u001b[0m eta \u001b[36m0:00:00\u001b[0m\n",
            "\u001b[2K   \u001b[90m━━━━━━━━━━━━━━━━━━━━━━━━━━━━━━━━━━━━━━━━\u001b[0m \u001b[32m232.6/232.6 kB\u001b[0m \u001b[31m15.8 MB/s\u001b[0m eta \u001b[36m0:00:00\u001b[0m\n",
            "\u001b[2K   \u001b[90m━━━━━━━━━━━━━━━━━━━━━━━━━━━━━━━━━━━━━━━━\u001b[0m \u001b[32m310.5/310.5 kB\u001b[0m \u001b[31m22.0 MB/s\u001b[0m eta \u001b[36m0:00:00\u001b[0m\n",
            "\u001b[2K   \u001b[90m━━━━━━━━━━━━━━━━━━━━━━━━━━━━━━━━━━━━━━━━\u001b[0m \u001b[32m284.2/284.2 kB\u001b[0m \u001b[31m21.0 MB/s\u001b[0m eta \u001b[36m0:00:00\u001b[0m\n",
            "\u001b[2K   \u001b[90m━━━━━━━━━━━━━━━━━━━━━━━━━━━━━━━━━━━━━━━━\u001b[0m \u001b[32m1.9/1.9 MB\u001b[0m \u001b[31m74.2 MB/s\u001b[0m eta \u001b[36m0:00:00\u001b[0m\n",
            "\u001b[2K   \u001b[90m━━━━━━━━━━━━━━━━━━━━━━━━━━━━━━━━━━━━━━━━\u001b[0m \u001b[32m447.5/447.5 kB\u001b[0m \u001b[31m25.2 MB/s\u001b[0m eta \u001b[36m0:00:00\u001b[0m\n",
            "\u001b[2K   \u001b[90m━━━━━━━━━━━━━━━━━━━━━━━━━━━━━━━━━━━━━━━━\u001b[0m \u001b[32m103.3/103.3 kB\u001b[0m \u001b[31m7.8 MB/s\u001b[0m eta \u001b[36m0:00:00\u001b[0m\n",
            "\u001b[2K   \u001b[90m━━━━━━━━━━━━━━━━━━━━━━━━━━━━━━━━━━━━━━━━\u001b[0m \u001b[32m16.5/16.5 MB\u001b[0m \u001b[31m90.0 MB/s\u001b[0m eta \u001b[36m0:00:00\u001b[0m\n",
            "\u001b[2K   \u001b[90m━━━━━━━━━━━━━━━━━━━━━━━━━━━━━━━━━━━━━━━━\u001b[0m \u001b[32m72.5/72.5 kB\u001b[0m \u001b[31m5.5 MB/s\u001b[0m eta \u001b[36m0:00:00\u001b[0m\n",
            "\u001b[2K   \u001b[90m━━━━━━━━━━━━━━━━━━━━━━━━━━━━━━━━━━━━━━━━\u001b[0m \u001b[32m131.9/131.9 kB\u001b[0m \u001b[31m9.7 MB/s\u001b[0m eta \u001b[36m0:00:00\u001b[0m\n",
            "\u001b[2K   \u001b[90m━━━━━━━━━━━━━━━━━━━━━━━━━━━━━━━━━━━━━━━━\u001b[0m \u001b[32m65.7/65.7 kB\u001b[0m \u001b[31m5.0 MB/s\u001b[0m eta \u001b[36m0:00:00\u001b[0m\n",
            "\u001b[2K   \u001b[90m━━━━━━━━━━━━━━━━━━━━━━━━━━━━━━━━━━━━━━━━\u001b[0m \u001b[32m208.0/208.0 kB\u001b[0m \u001b[31m15.0 MB/s\u001b[0m eta \u001b[36m0:00:00\u001b[0m\n",
            "\u001b[2K   \u001b[90m━━━━━━━━━━━━━━━━━━━━━━━━━━━━━━━━━━━━━━━━\u001b[0m \u001b[32m105.4/105.4 kB\u001b[0m \u001b[31m7.2 MB/s\u001b[0m eta \u001b[36m0:00:00\u001b[0m\n",
            "\u001b[2K   \u001b[90m━━━━━━━━━━━━━━━━━━━━━━━━━━━━━━━━━━━━━━━━\u001b[0m \u001b[32m71.6/71.6 kB\u001b[0m \u001b[31m6.1 MB/s\u001b[0m eta \u001b[36m0:00:00\u001b[0m\n",
            "\u001b[2K   \u001b[90m━━━━━━━━━━━━━━━━━━━━━━━━━━━━━━━━━━━━━━━━\u001b[0m \u001b[32m64.7/64.7 kB\u001b[0m \u001b[31m4.4 MB/s\u001b[0m eta \u001b[36m0:00:00\u001b[0m\n",
            "\u001b[2K   \u001b[90m━━━━━━━━━━━━━━━━━━━━━━━━━━━━━━━━━━━━━━━━\u001b[0m \u001b[32m510.8/510.8 kB\u001b[0m \u001b[31m29.4 MB/s\u001b[0m eta \u001b[36m0:00:00\u001b[0m\n",
            "\u001b[2K   \u001b[90m━━━━━━━━━━━━━━━━━━━━━━━━━━━━━━━━━━━━━━━━\u001b[0m \u001b[32m50.9/50.9 kB\u001b[0m \u001b[31m3.3 MB/s\u001b[0m eta \u001b[36m0:00:00\u001b[0m\n",
            "\u001b[2K   \u001b[90m━━━━━━━━━━━━━━━━━━━━━━━━━━━━━━━━━━━━━━━━\u001b[0m \u001b[32m4.7/4.7 MB\u001b[0m \u001b[31m93.3 MB/s\u001b[0m eta \u001b[36m0:00:00\u001b[0m\n",
            "\u001b[2K   \u001b[90m━━━━━━━━━━━━━━━━━━━━━━━━━━━━━━━━━━━━━━━━\u001b[0m \u001b[32m452.2/452.2 kB\u001b[0m \u001b[31m28.0 MB/s\u001b[0m eta \u001b[36m0:00:00\u001b[0m\n",
            "\u001b[2K   \u001b[90m━━━━━━━━━━━━━━━━━━━━━━━━━━━━━━━━━━━━━━━━\u001b[0m \u001b[32m46.0/46.0 kB\u001b[0m \u001b[31m3.0 MB/s\u001b[0m eta \u001b[36m0:00:00\u001b[0m\n",
            "\u001b[2K   \u001b[90m━━━━━━━━━━━━━━━━━━━━━━━━━━━━━━━━━━━━━━━━\u001b[0m \u001b[32m86.8/86.8 kB\u001b[0m \u001b[31m5.9 MB/s\u001b[0m eta \u001b[36m0:00:00\u001b[0m\n",
            "\u001b[?25h  Building wheel for pypika (pyproject.toml) ... \u001b[?25l\u001b[?25hdone\n",
            "\u001b[31mERROR: pip's dependency resolver does not currently take into account all the packages that are installed. This behaviour is the source of the following dependency conflicts.\n",
            "google-colab 1.0.0 requires requests==2.32.4, but you have requests 2.32.5 which is incompatible.\u001b[0m\u001b[31m\n",
            "\u001b[0m"
          ]
        }
      ],
      "source": [
        "# Instalacion de las dependencias\n",
        "!pip install langchain langchain-openai langchain-chroma langchain-community openai chromadb PyPDF2 pypdf -q"
      ]
    },
    {
      "cell_type": "code",
      "execution_count": 2,
      "id": "9b260d32",
      "metadata": {
        "id": "9b260d32"
      },
      "outputs": [],
      "source": [
        "# Paso 0: Importamos las librerias\n",
        "import os\n",
        "#from langchain.document_loaders import TextLoader, PyPDFLoader\n",
        "from langchain_community.document_loaders import PyPDFLoader, TextLoader\n",
        "from langchain.text_splitter import RecursiveCharacterTextSplitter\n",
        "from langchain_openai import OpenAIEmbeddings\n",
        "from langchain_chroma import Chroma\n",
        "from langchain_openai import ChatOpenAI"
      ]
    },
    {
      "cell_type": "code",
      "source": [
        "#Cargamos el TOKEN de OpenAI para poder ejecutar prompts\n",
        "from google.colab import userdata\n",
        "api_key = userdata.get('OPENAI_API_KEY')"
      ],
      "metadata": {
        "id": "2GvjSB6ROGNw"
      },
      "id": "2GvjSB6ROGNw",
      "execution_count": 3,
      "outputs": []
    },
    {
      "cell_type": "code",
      "source": [
        "from google.colab import drive\n",
        "drive.mount('/content/drive')"
      ],
      "metadata": {
        "colab": {
          "base_uri": "https://localhost:8080/"
        },
        "id": "yQXaZ667OPDP",
        "outputId": "0bc079be-e63a-4c20-dea1-b186ea4814a1"
      },
      "id": "yQXaZ667OPDP",
      "execution_count": 4,
      "outputs": [
        {
          "output_type": "stream",
          "name": "stdout",
          "text": [
            "Mounted at /content/drive\n"
          ]
        }
      ]
    },
    {
      "cell_type": "markdown",
      "id": "22e19bdb",
      "metadata": {
        "id": "22e19bdb"
      },
      "source": [
        "## 1. Extración los archivos TXT o PDF"
      ]
    },
    {
      "cell_type": "code",
      "execution_count": 5,
      "id": "6c51044c",
      "metadata": {
        "id": "6c51044c"
      },
      "outputs": [],
      "source": [
        "# Paso 1: Función para cargar documentos\n",
        "# Dependiendo del tipo de archivo (pdf o txt) llama la función requerida\n",
        "def load_documents(file_paths):\n",
        "    documents = []\n",
        "    for file_path in file_paths:\n",
        "        if file_path.endswith('.pdf'):\n",
        "            loader = PyPDFLoader(file_path)\n",
        "        elif file_path.endswith('.txt'):\n",
        "            loader = TextLoader(file_path)\n",
        "        else:\n",
        "            continue\n",
        "        documents.extend(loader.load())\n",
        "    return documents"
      ]
    },
    {
      "cell_type": "markdown",
      "id": "6b83e77a",
      "metadata": {
        "id": "6b83e77a"
      },
      "source": [
        "## 2. División de los textos en fragmentos"
      ]
    },
    {
      "cell_type": "code",
      "execution_count": 6,
      "id": "a4b8f501",
      "metadata": {
        "id": "a4b8f501"
      },
      "outputs": [],
      "source": [
        "# Paso 2: Función para dividir texto en fragmentos\n",
        "# Divide el texto en chunks de tamaño 1000 con un overlap de 200 para mantener\n",
        "# la continuidad de la información\n",
        "def chunk_documents(documents):\n",
        "    text_splitter = RecursiveCharacterTextSplitter(chunk_size=1000, chunk_overlap=200)\n",
        "    return text_splitter.split_documents(documents)"
      ]
    },
    {
      "cell_type": "markdown",
      "id": "8d06e27f",
      "metadata": {
        "id": "8d06e27f"
      },
      "source": [
        "## 3. Creación de los embeddings"
      ]
    },
    {
      "cell_type": "code",
      "execution_count": null,
      "id": "ec00fa4b",
      "metadata": {
        "id": "ec00fa4b"
      },
      "outputs": [],
      "source": [
        "# Paso 3: Función para crear embeddings\n",
        "# Creamos los embeddings de los chunks directamente cuando se llama a la funcion\n",
        "# de almacenamiento de los vectores\n",
        "# Se crea la funcion en el cuerpo de la funcion main"
      ]
    },
    {
      "cell_type": "markdown",
      "id": "72c82e20",
      "metadata": {
        "id": "72c82e20"
      },
      "source": [
        "## 4. Almacenamiento de los vectores (embeddings) en la base de datos"
      ]
    },
    {
      "cell_type": "code",
      "execution_count": 7,
      "id": "a3d89880",
      "metadata": {
        "id": "a3d89880"
      },
      "outputs": [],
      "source": [
        "# Paso 4: Almacenamos los emebeddings en la bases de datos de Chroma\n",
        "# Si la base de datos no existe, la crea; si existe, solamente la carga\n",
        "# Esto para evitar que se tenga que generar desde 0 la base de datos,\n",
        "# cada vez que se reciba un prompt del usuario\n",
        "def store_in_chromadb(chunks, embeddings_model):\n",
        "    report = 'RetoRAG'\n",
        "    db_path = \"/content/drive/My Drive/TecdeMonterrey/chroma_db\"\n",
        "    if not os.path.exists(db_path):\n",
        "        # Create the vector store and persist it\n",
        "        vector_store = Chroma.from_documents(chunks, embeddings_model, collection_name=report,persist_directory=db_path)\n",
        "    else:\n",
        "        # Load the existing vector store\n",
        "        vector_store = Chroma(persist_directory=db_path, embedding_function=embeddings_model,collection_name=report)\n",
        "    return vector_store"
      ]
    },
    {
      "cell_type": "markdown",
      "id": "85da1ee7",
      "metadata": {
        "id": "85da1ee7"
      },
      "source": [
        "## 5. Retriving from the Persistant Vector Datastore"
      ]
    },
    {
      "cell_type": "code",
      "execution_count": 8,
      "id": "e9fd2322",
      "metadata": {
        "id": "e9fd2322"
      },
      "outputs": [],
      "source": [
        "# Paso 5: Recuperar información relevante\n",
        "# Obtenemos los 5 primeros fragmentos relevantes de la base de datos\n",
        "def retrieve_relevant_info(question, vector_store):\n",
        "    docs = vector_store.similarity_search(question, k=5)\n",
        "    return docs"
      ]
    },
    {
      "cell_type": "markdown",
      "id": "d4abf77e",
      "metadata": {
        "id": "d4abf77e"
      },
      "source": [
        "## 6. Generar prompt usando los vectores relevantes y el prompt del usuario"
      ]
    },
    {
      "cell_type": "code",
      "execution_count": 9,
      "id": "568bce4f",
      "metadata": {
        "id": "568bce4f"
      },
      "outputs": [],
      "source": [
        "# Paso 6: Generar prompt\n",
        "# Generamos el prompt usando el prompt del usuario, mas los\n",
        "# fragmentos relevantes\n",
        "def generate_prompt(question, relevant_docs):\n",
        "    limit=3750\n",
        "    # Extraemos el contexto de los documentos\n",
        "    contexts = [doc.page_content for doc in relevant_docs]\n",
        "\n",
        "    # build our prompt with the retrieved contexts included\n",
        "    prompt_start = (\n",
        "        \"Answer the question based on the context below.\\n\\n\"+\n",
        "        \"Context:\\n\"\n",
        "    )\n",
        "    prompt_end = (\n",
        "        f\"\\n\\nQuestion: {question}\\nAnswer:\"\n",
        "    )\n",
        "\n",
        "    # Initialize prompt with all contexts\n",
        "    prompt = (\n",
        "        prompt_start +\n",
        "        \"\\n\\n---\\n\\n\".join(contexts) +\n",
        "        prompt_end\n",
        "    )\n",
        "\n",
        "    # If total length exceeds limit, reduce contexts one by one\n",
        "    for i in range(len(contexts)-1, 0, -1):\n",
        "        if len(\"\\n\\n---\\n\\n\".join(contexts[:i])) < limit:\n",
        "            prompt = (\n",
        "                prompt_start +\n",
        "                \"\\n\\n---\\n\\n\".join(contexts[:i]) +\n",
        "                prompt_end\n",
        "            )\n",
        "            break\n",
        "\n",
        "    return prompt"
      ]
    },
    {
      "cell_type": "markdown",
      "source": [
        "## 7. Generar la respuesta usando GPT-4"
      ],
      "metadata": {
        "id": "17uPCyAzMJ86"
      },
      "id": "17uPCyAzMJ86"
    },
    {
      "cell_type": "code",
      "source": [
        "# Paso 7: Generar respuesta usando GPT-4\n",
        "# Enviamos el prompt al modelo\n",
        "\n",
        "def generate_answer(prompt):\n",
        "    llm = ChatOpenAI(model_name=\"gpt-4\", api_key=api_key, temperature=0)\n",
        "    return llm.invoke(prompt)"
      ],
      "metadata": {
        "id": "Pi8Y0ezpJrIv"
      },
      "id": "Pi8Y0ezpJrIv",
      "execution_count": 10,
      "outputs": []
    },
    {
      "cell_type": "markdown",
      "source": [
        "## 8. Funcion principal"
      ],
      "metadata": {
        "id": "83-rH2ejMUdj"
      },
      "id": "83-rH2ejMUdj"
    },
    {
      "cell_type": "code",
      "source": [
        "# Función principal\n",
        "#\n",
        "def main(file_paths, question):\n",
        "    # Cargamos los documentos\n",
        "    documents = load_documents(file_paths)\n",
        "    # Fragmentamos los documentos\n",
        "    chunks = chunk_documents(documents)\n",
        "    # Definimos la función que realizara los embeddings\n",
        "    embeddings = OpenAIEmbeddings(model=\"text-embedding-3-small\",api_key=api_key)\n",
        "    # Creamos o guardamos la base de datos de vactores\n",
        "    vector_store = store_in_chromadb(chunks,embeddings)\n",
        "    # Busacamos los vectores mas relevantes\n",
        "    relevant_docs = retrieve_relevant_info(question, vector_store)\n",
        "    # Generamos el prompt usando la pregunta y el contexto obetenido\n",
        "    prompt = generate_prompt(question, relevant_docs)\n",
        "    # Obtenemos la respuesta del LLM\n",
        "    answer = generate_answer(prompt)\n",
        "    return answer"
      ],
      "metadata": {
        "id": "-HycCHC9MYRs"
      },
      "id": "-HycCHC9MYRs",
      "execution_count": 11,
      "outputs": []
    },
    {
      "cell_type": "markdown",
      "source": [
        "## 9. Programa Principal"
      ],
      "metadata": {
        "id": "15xZ2ig6MbIY"
      },
      "id": "15xZ2ig6MbIY"
    },
    {
      "cell_type": "code",
      "source": [
        "# Función principal\n",
        "if __name__ == \"__main__\":\n",
        "    file_paths = ['/content/drive/MyDrive/TecdeMonterrey/Generacion de Codigo con  AI generativa/Reto1/V-GEL Información ES PDF.pdf', '/content/drive/MyDrive/TecdeMonterrey/Generacion de Codigo con  AI generativa/Reto1/RETO_RAG.pdf']\n",
        "    question = \"¿Cuál es el objetivo del proyecto?\"\n",
        "    answer = main(file_paths, question)\n",
        "    print(answer)"
      ],
      "metadata": {
        "id": "vYSVTo0lMk8-"
      },
      "id": "vYSVTo0lMk8-",
      "execution_count": null,
      "outputs": []
    },
    {
      "cell_type": "markdown",
      "source": [
        "## 10. Preguntas al sistema RAG"
      ],
      "metadata": {
        "id": "85AWwU2atNnp"
      },
      "id": "85AWwU2atNnp"
    },
    {
      "cell_type": "code",
      "source": [
        "# Primera pregunta\n",
        "file_paths = ['/content/drive/MyDrive/TecdeMonterrey/Generacion de Codigo con  AI generativa/Reto1/V-GEL Información ES PDF.pdf', '/content/drive/MyDrive/TecdeMonterrey/Generacion de Codigo con  AI generativa/Reto1/RETO_RAG.pdf']\n",
        "question = \"¿Cuáles son las instrucciones para el alumno en la Actividad: Creación de un sistema RAG sencillo?\"\n",
        "answer = main(file_paths, question)\n",
        "print(f\"Pregunta : {question}. \\n Respuesta {answer.content}\")"
      ],
      "metadata": {
        "colab": {
          "base_uri": "https://localhost:8080/"
        },
        "id": "4FJSWGRkM07F",
        "outputId": "8979f653-6ce5-4659-ccb6-c370017547f7"
      },
      "id": "4FJSWGRkM07F",
      "execution_count": 12,
      "outputs": [
        {
          "output_type": "stream",
          "name": "stdout",
          "text": [
            "Pregunta : ¿Cuáles son las instrucciones para el alumno en la Actividad: Creación de un sistema RAG sencillo?. \n",
            " Respuesta Las instrucciones para el alumno en la Actividad: Creación de un sistema RAG sencillo son las siguientes:\n",
            "\n",
            "1. Leer el caso: El alumno es parte del equipo encargado de prototipar una solución RAG que permita responder preguntas sobre un conjunto de documentos internos.\n",
            "\n",
            "2. Objetivo: En 40 minutos, el alumno deberá crear un prototipo funcional que permita cargar o indexar al menos 2 documentos, reciba una pregunta del usuario y utilice un modelo generativo para responder la pregunta, apoyándose en la información recuperada de los documentos.\n",
            "\n",
            "3. Herramientas sugeridas: Se sugiere el uso de Python, LangChain, ChromaDB o similares. El alumno puede usar ejemplos y plantillas de la documentación oficial.\n",
            "\n",
            "4. Entrega: Al final, el alumno debe compartir el código fuente y una breve explicación de cómo lo implementó. Debe usar técnicas de prompt engineering para definir la arquitectura del sistema RAG, instalar las librerías necesarias, indexar los documentos usando una base de datos vectorial, implementar una función que reciba una pregunta, recupere los fragmentos más relevantes y los pase al modelo generativo, y probar el sistema con al menos dos preguntas distintas.\n"
          ]
        }
      ]
    },
    {
      "cell_type": "code",
      "source": [
        "# Segunda Pregunta\n",
        "question = \"¿Cuáles es el contexto del caso en la Actividad: Creación de un sistema RAG sencillo?\"\n",
        "answer = main(file_paths, question)\n",
        "print(f\"Pregunta : {question}. Respuesta: {answer.content}\")"
      ],
      "metadata": {
        "colab": {
          "base_uri": "https://localhost:8080/"
        },
        "id": "asfr_dewPFLM",
        "outputId": "cbabaab0-4dbe-4e8f-d609-fe271806d8cb"
      },
      "id": "asfr_dewPFLM",
      "execution_count": 14,
      "outputs": [
        {
          "output_type": "stream",
          "name": "stdout",
          "text": [
            "Pregunta : ¿Cuáles es el contexto del caso en la Actividad: Creación de un sistema RAG sencillo?. Respuesta: El contexto del caso en la Actividad: Creación de un sistema RAG sencillo es que una pequeña empresa necesita implementar un sistema que permita a sus empleados consultar información interna de manera eficiente. El equipo de desarrollo ha decidido utilizar un enfoque RAG (Retrieval-Augmented Generation) apoyado en modelos generativos, para responder preguntas sobre documentos internos como manuales, políticas o reportes. El objetivo es crear un prototipo funcional que permita cargar o indexar al menos 2 documentos, reciba una pregunta del usuario y utilice un modelo generativo para responder la pregunta, basándose en la información recuperada de los documentos.\n"
          ]
        }
      ]
    },
    {
      "cell_type": "code",
      "source": [
        "# Tercera pregunta\n",
        "question = \"¿Cuáles sugerencias de pasos en la Actividad: Creación de un sistema RAG sencillo?\"\n",
        "answer = main(file_paths, question)\n",
        "print(f\"Pregunta : {question}. Respuesta: {answer.content}\")"
      ],
      "metadata": {
        "colab": {
          "base_uri": "https://localhost:8080/"
        },
        "id": "i-1EJMaftTXb",
        "outputId": "166af306-2c56-443a-9ca0-7a6ce3113417"
      },
      "id": "i-1EJMaftTXb",
      "execution_count": 15,
      "outputs": [
        {
          "output_type": "stream",
          "name": "stdout",
          "text": [
            "Pregunta : ¿Cuáles sugerencias de pasos en la Actividad: Creación de un sistema RAG sencillo?. Respuesta: Las sugerencias de pasos en la Actividad: Creación de un sistema RAG sencillo son las siguientes:\n",
            "\n",
            "1. Usa técnicas de prompt engineering para definir la arquitectura del sistema RAG.\n",
            "2. Instala las librerías necesarias.\n",
            "3. Indexa los documentos usando una base de datos vectorial (como ChromaDB).\n",
            "4. Implementa una función que reciba una pregunta, recupere los fragmentos más relevantes y los pase al modelo generativo.\n",
            "5. Prueba tu sistema con al menos dos preguntas distintas.\n"
          ]
        }
      ]
    },
    {
      "cell_type": "code",
      "source": [
        "# Tercera pregunta\n",
        "question = \"¿Cuáles son las ventajas de v-gel?\"\n",
        "answer = main(file_paths, question)\n",
        "print(f\"Pregunta : {question}. Respuesta: {answer.content}\")"
      ],
      "metadata": {
        "colab": {
          "base_uri": "https://localhost:8080/"
        },
        "id": "pVIeWFE-uA80",
        "outputId": "b309d6bf-c29f-4ac6-b762-99474b1fa8a4"
      },
      "id": "pVIeWFE-uA80",
      "execution_count": 16,
      "outputs": [
        {
          "output_type": "stream",
          "name": "stdout",
          "text": [
            "Pregunta : ¿Cuáles son las ventajas de v-gel?. Respuesta: Las ventajas de v-gel incluyen un mejor diseño gracias a años de investigación y comentarios de los clientes, es de un solo uso siguiendo las normas de higiene de la medicina humana. Los dispositivos v-gel son fáciles y rápidos de colocar, útiles en emergencias de resucitación y adecuados para una amplia variedad de procedimientos, incluyendo trabajo dental. Además, evitan traumatismos laríngeos y traqueales, lo que significa un procedimiento anestésico más seguro y una cómoda recuperación del paciente. También evitan la tos y las náuseas postoperatorias, tienen una baja resistencia de la vía aérea gracias al gran canal de aire dentro del dispositivo, y proporcionan un sellado de alta calidad que evita fugas de agentes anestésicos volátiles. Finalmente, ayudan a prevenir y controlar la regurgitación del estómago y son ideales para un procedimiento dental seguro.\n"
          ]
        }
      ]
    },
    {
      "cell_type": "code",
      "source": [
        "# Cuarta pregunta\n",
        "question = \"¿Qué es v-gel?\"\n",
        "answer = main(file_paths, question)\n",
        "print(f\"Pregunta : {question}. Respuesta: {answer.content}\")"
      ],
      "metadata": {
        "colab": {
          "base_uri": "https://localhost:8080/"
        },
        "id": "-0MZAUVIuOfk",
        "outputId": "3b9d07ca-2297-4886-edea-3851d7ef1b52"
      },
      "id": "-0MZAUVIuOfk",
      "execution_count": 17,
      "outputs": [
        {
          "output_type": "stream",
          "name": "stdout",
          "text": [
            "Pregunta : ¿Qué es v-gel?. Respuesta: V-GEL es el primer dispositivo supraglótico para vías respiratorias de uso veterinario, utilizado para suministrar gases anestésicos y/u oxígeno a los pacientes, especialmente gatos y conejos. Está diseñado para entrar en la faringe y evitar problemas causados por traumatismos laríngeos y traqueales. Es fácil y rápido de colocar y útil en emergencias de resucitación. También es adecuado para una amplia variedad de procedimientos, incluido el trabajo dental.\n"
          ]
        }
      ]
    },
    {
      "cell_type": "code",
      "source": [
        "# Quinta pregunta\n",
        "question = \"¿Cuáles son las caracteristicas clave del dispositivo v-gel advanced?\"\n",
        "answer = main(file_paths, question)\n",
        "print(f\"Pregunta : {question}. Respuesta: {answer.content}\")"
      ],
      "metadata": {
        "colab": {
          "base_uri": "https://localhost:8080/"
        },
        "id": "QMrrdG7uu-Kk",
        "outputId": "e96b4efa-92f7-427e-dabf-271d950fcc17"
      },
      "id": "QMrrdG7uu-Kk",
      "execution_count": 18,
      "outputs": [
        {
          "output_type": "stream",
          "name": "stdout",
          "text": [
            "Pregunta : ¿Cuáles son las caracteristicas clave del dispositivo v-gel advanced?. Respuesta: El dispositivo v-gel Advanced tiene un mejor diseño gracias a años de investigación y comentarios de los clientes. Es de un solo uso, siguiendo las normas de higiene de la medicina humana. Conserva las características originales de los dispositivos v-gel para gato y conejo, incluyendo funciones de coincidencia anatómica combinadas con un material suave para brindar un sellado de alta calidad. Es adecuado para pacientes conectados a un ventilador mecánico y evita traumatismos laríngeos y traqueales. Permite una colocación rápida, fácil, segura y sin estrés. No causa tos ni náuseas postoperatorias y tiene una baja resistencia de la vía aérea gracias al gran canal de aire dentro del dispositivo. Ofrece un sellado de alta calidad que evita fugas de agentes anestésicos volátiles, cuidando la seguridad del personal. Facilita una recuperación más segura y cómoda. Tiene un inserto de punta en la parte superior del esófago para ayudar a prevenir y controlar la regurgitación del estómago. Es ideal para un procedimiento dental seguro.\n"
          ]
        }
      ]
    }
  ],
  "metadata": {
    "kernelspec": {
      "display_name": "rag_build",
      "language": "python",
      "name": "python3"
    },
    "language_info": {
      "codemirror_mode": {
        "name": "ipython",
        "version": 3
      },
      "file_extension": ".py",
      "mimetype": "text/x-python",
      "name": "python",
      "nbconvert_exporter": "python",
      "pygments_lexer": "ipython3",
      "version": "3.12.10"
    },
    "colab": {
      "provenance": []
    }
  },
  "nbformat": 4,
  "nbformat_minor": 5
}